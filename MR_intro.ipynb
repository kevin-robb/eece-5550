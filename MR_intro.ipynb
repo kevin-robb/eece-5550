{
 "cells": [
  {
   "cell_type": "code",
   "execution_count": 4,
   "id": "f2d6fe1f",
   "metadata": {},
   "outputs": [],
   "source": [
    "import numpy as np\n",
    "import scipy as sp\n",
    "from scipy import linalg\n",
    "import matplotlib.pyplot as plt"
   ]
  },
  {
   "cell_type": "code",
   "execution_count": 8,
   "id": "c0aedb89",
   "metadata": {},
   "outputs": [
    {
     "name": "stdout",
     "output_type": "stream",
     "text": [
      "[ 2. -2.  9.]\n"
     ]
    },
    {
     "data": {
      "text/plain": [
       "array([ True,  True,  True])"
      ]
     },
     "execution_count": 8,
     "metadata": {},
     "output_type": "execute_result"
    }
   ],
   "source": [
    "# ax - b = 0 solve simple linear problem\n",
    "a = np.array([[3,2,0],[1,-1,0],[0,5,1]])\n",
    "b = np.array([2,4,-1])\n",
    "x = linalg.solve(a,b)\n",
    "print(x)\n",
    "# check with dot product\n",
    "np.dot(a,x) == b"
   ]
  },
  {
   "cell_type": "code",
   "execution_count": 11,
   "id": "e921f602",
   "metadata": {},
   "outputs": [
    {
     "data": {
      "text/plain": [
       "(array([ 956.,  981., 1063.,  972.,  967.,  979.,  967., 1078., 1015.,\n",
       "        1022.]),\n",
       " array([1.00274834, 1.90243206, 2.80211577, 3.70179949, 4.6014832 ,\n",
       "        5.50116692, 6.40085063, 7.30053435, 8.20021806, 9.09990178,\n",
       "        9.99958549]),\n",
       " <a list of 10 Patch objects>)"
      ]
     },
     "execution_count": 11,
     "metadata": {},
     "output_type": "execute_result"
    },
    {
     "data": {
      "image/png": "[encoded data removed]",
      "text/plain": [
       "<Figure size 432x288 with 1 Axes>"
      ]
     },
     "metadata": {
      "needs_background": "light"
     },
     "output_type": "display_data"
    }
   ],
   "source": [
    "uniform = np.random.uniform(10,size=10000)\n",
    "# print(uniform)\n",
    "plt.hist(uniform)"
   ]
  },
  {
   "cell_type": "code",
   "execution_count": 16,
   "id": "1a431ccf",
   "metadata": {},
   "outputs": [
    {
     "data": {
      "text/plain": [
       "(array([  25.,  141.,  725., 1766., 2704., 2590., 1513.,  439.,   82.,\n",
       "          15.]),\n",
       " array([-0.03609717, -0.0286752 , -0.02125322, -0.01383125, -0.00640927,\n",
       "         0.0010127 ,  0.00843468,  0.01585666,  0.02327863,  0.03070061,\n",
       "         0.03812258]),\n",
       " <a list of 10 Patch objects>)"
      ]
     },
     "execution_count": 16,
     "metadata": {},
     "output_type": "execute_result"
    },
    {
     "data": {
      "image/png": "[encoded data removed]",
      "text/plain": [
       "<Figure size 432x288 with 1 Axes>"
      ]
     },
     "metadata": {
      "needs_background": "light"
     },
     "output_type": "display_data"
    }
   ],
   "source": [
    "normal = np.random.normal(loc=0,scale=0.01,size=10000)\n",
    "plt.hist(normal)"
   ]
  }
 ],
 "metadata": {
  "kernelspec": {
   "display_name": "Python 3 (ipykernel)",
   "language": "python",
   "name": "python3"
  },
  "language_info": {
   "codemirror_mode": {
    "name": "ipython",
    "version": 3
   },
   "file_extension": ".py",
   "mimetype": "text/x-python",
   "name": "python",
   "nbconvert_exporter": "python",
   "pygments_lexer": "ipython3",
   "version": "3.8.10"
  }
 },
 "nbformat": 4,
 "nbformat_minor": 5
}
